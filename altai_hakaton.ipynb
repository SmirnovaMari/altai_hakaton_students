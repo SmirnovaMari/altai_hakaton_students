{
 "cells": [
  {
   "cell_type": "markdown",
   "metadata": {
    "id": "qb_ajqWXuguV"
   },
   "source": [
    "## Загрузим нужные библиотеки"
   ]
  },
  {
   "cell_type": "code",
   "execution_count": 469,
   "metadata": {
    "id": "MTgpe_1quUDs"
   },
   "outputs": [],
   "source": [
    "import pandas as pd\n",
    "import seaborn as sns\n",
    "import matplotlib.pyplot as plt\n",
    "from sklearn.model_selection import train_test_split\n",
    "from sklearn.ensemble import RandomForestClassifier\n",
    "from sklearn import tree\n",
    "import numpy as np\n",
    "from sklearn.metrics import f1_score\n",
    "\n",
    "%matplotlib inline"
   ]
  },
  {
   "cell_type": "code",
   "execution_count": 470,
   "metadata": {
    "id": "o9N4JbcWudk2"
   },
   "outputs": [],
   "source": [
    "df = pd.read_csv(\"train_dataset_train.csv\")"
   ]
  },
  {
   "cell_type": "markdown",
   "metadata": {
    "id": "GgCS5B_PutbW"
   },
   "source": [
    "## Рассмотрим датасет поближе"
   ]
  },
  {
   "cell_type": "code",
   "execution_count": 471,
   "metadata": {
    "colab": {
     "base_uri": "https://localhost:8080/",
     "height": 306
    },
    "id": "qEvfySMMutBR",
    "outputId": "4dfb8e9e-8953-4111-d155-30994b74e6b2"
   },
   "outputs": [
    {
     "data": {
      "text/html": [
       "<div>\n",
       "<style scoped>\n",
       "    .dataframe tbody tr th:only-of-type {\n",
       "        vertical-align: middle;\n",
       "    }\n",
       "\n",
       "    .dataframe tbody tr th {\n",
       "        vertical-align: top;\n",
       "    }\n",
       "\n",
       "    .dataframe thead th {\n",
       "        text-align: right;\n",
       "    }\n",
       "</style>\n",
       "<table border=\"1\" class=\"dataframe\">\n",
       "  <thead>\n",
       "    <tr style=\"text-align: right;\">\n",
       "      <th></th>\n",
       "      <th>ID</th>\n",
       "      <th>Код_группы</th>\n",
       "      <th>Год_Поступления</th>\n",
       "      <th>Пол</th>\n",
       "      <th>Основания</th>\n",
       "      <th>Изучаемый_Язык</th>\n",
       "      <th>Дата_Рождения</th>\n",
       "      <th>Уч_Заведение</th>\n",
       "      <th>Где_Находится_УЗ</th>\n",
       "      <th>Год_Окончания_УЗ</th>\n",
       "      <th>...</th>\n",
       "      <th>Общежитие</th>\n",
       "      <th>Наличие_Матери</th>\n",
       "      <th>Наличие_Отца</th>\n",
       "      <th>Страна_Родители</th>\n",
       "      <th>Опекунство</th>\n",
       "      <th>Село</th>\n",
       "      <th>Иностранец</th>\n",
       "      <th>КодФакультета</th>\n",
       "      <th>СрБаллАттестата</th>\n",
       "      <th>Статус</th>\n",
       "    </tr>\n",
       "  </thead>\n",
       "  <tbody>\n",
       "    <tr>\n",
       "      <th>0</th>\n",
       "      <td>72716</td>\n",
       "      <td>16019</td>\n",
       "      <td>2015</td>\n",
       "      <td>Жен</td>\n",
       "      <td>ОО</td>\n",
       "      <td>Английский язык</td>\n",
       "      <td>1998-02-08 00:00:00.000</td>\n",
       "      <td>МБОУ \"СОШ №59\"</td>\n",
       "      <td>Алтайский край, Барнаул г</td>\n",
       "      <td>2014.0</td>\n",
       "      <td>...</td>\n",
       "      <td>0.0</td>\n",
       "      <td>0</td>\n",
       "      <td>0.0</td>\n",
       "      <td>Россия</td>\n",
       "      <td>0.0</td>\n",
       "      <td>0.0</td>\n",
       "      <td>0.0</td>\n",
       "      <td>41.0</td>\n",
       "      <td>4.294</td>\n",
       "      <td>3</td>\n",
       "    </tr>\n",
       "    <tr>\n",
       "      <th>1</th>\n",
       "      <td>63306</td>\n",
       "      <td>14895</td>\n",
       "      <td>2010</td>\n",
       "      <td>Муж</td>\n",
       "      <td>ЦН</td>\n",
       "      <td>NaN</td>\n",
       "      <td>1992-04-18 00:00:00.000</td>\n",
       "      <td>NaN</td>\n",
       "      <td>NaN</td>\n",
       "      <td>NaN</td>\n",
       "      <td>...</td>\n",
       "      <td>0.0</td>\n",
       "      <td>1</td>\n",
       "      <td>1.0</td>\n",
       "      <td>Россия</td>\n",
       "      <td>0.0</td>\n",
       "      <td>0.0</td>\n",
       "      <td>0.0</td>\n",
       "      <td>28.0</td>\n",
       "      <td>67.000</td>\n",
       "      <td>4</td>\n",
       "    </tr>\n",
       "    <tr>\n",
       "      <th>2</th>\n",
       "      <td>82469</td>\n",
       "      <td>20103</td>\n",
       "      <td>2017</td>\n",
       "      <td>Жен</td>\n",
       "      <td>ДН</td>\n",
       "      <td>Английский язык</td>\n",
       "      <td>1999-03-21 00:00:00.000</td>\n",
       "      <td>МБОУ Алтайская СОШ №5</td>\n",
       "      <td>Алтайский край, Алтайский р-н, Алтайское с</td>\n",
       "      <td>2017.0</td>\n",
       "      <td>...</td>\n",
       "      <td>0.0</td>\n",
       "      <td>1</td>\n",
       "      <td>1.0</td>\n",
       "      <td>Россия</td>\n",
       "      <td>0.0</td>\n",
       "      <td>0.0</td>\n",
       "      <td>0.0</td>\n",
       "      <td>41.0</td>\n",
       "      <td>4.133</td>\n",
       "      <td>4</td>\n",
       "    </tr>\n",
       "  </tbody>\n",
       "</table>\n",
       "<p>3 rows × 24 columns</p>\n",
       "</div>"
      ],
      "text/plain": [
       "      ID  Код_группы  Год_Поступления  Пол Основания   Изучаемый_Язык  \\\n",
       "0  72716       16019             2015  Жен        ОО  Английский язык   \n",
       "1  63306       14895             2010  Муж        ЦН              NaN   \n",
       "2  82469       20103             2017  Жен        ДН  Английский язык   \n",
       "\n",
       "             Дата_Рождения           Уч_Заведение  \\\n",
       "0  1998-02-08 00:00:00.000         МБОУ \"СОШ №59\"   \n",
       "1  1992-04-18 00:00:00.000                    NaN   \n",
       "2  1999-03-21 00:00:00.000  МБОУ Алтайская СОШ №5   \n",
       "\n",
       "                             Где_Находится_УЗ  Год_Окончания_УЗ  ...  \\\n",
       "0                   Алтайский край, Барнаул г            2014.0  ...   \n",
       "1                                         NaN               NaN  ...   \n",
       "2  Алтайский край, Алтайский р-н, Алтайское с            2017.0  ...   \n",
       "\n",
       "   Общежитие Наличие_Матери Наличие_Отца Страна_Родители  Опекунство  Село  \\\n",
       "0        0.0              0          0.0          Россия         0.0   0.0   \n",
       "1        0.0              1          1.0          Россия         0.0   0.0   \n",
       "2        0.0              1          1.0          Россия         0.0   0.0   \n",
       "\n",
       "   Иностранец КодФакультета  СрБаллАттестата  Статус  \n",
       "0         0.0          41.0            4.294       3  \n",
       "1         0.0          28.0           67.000       4  \n",
       "2         0.0          41.0            4.133       4  \n",
       "\n",
       "[3 rows x 24 columns]"
      ]
     },
     "execution_count": 471,
     "metadata": {},
     "output_type": "execute_result"
    }
   ],
   "source": [
    "df.head(3)"
   ]
  },
  {
   "cell_type": "code",
   "execution_count": 472,
   "metadata": {
    "colab": {
     "base_uri": "https://localhost:8080/"
    },
    "id": "DfQqkXCOueeM",
    "outputId": "d2b2d514-c8c7-4483-8595-d1028b596664"
   },
   "outputs": [
    {
     "data": {
      "text/plain": [
       "(13584, 24)"
      ]
     },
     "execution_count": 472,
     "metadata": {},
     "output_type": "execute_result"
    }
   ],
   "source": [
    "df.shape"
   ]
  },
  {
   "cell_type": "code",
   "execution_count": 473,
   "metadata": {
    "colab": {
     "base_uri": "https://localhost:8080/"
    },
    "id": "NUHy7c-tuegn",
    "outputId": "dd85bd2d-aaf9-439b-eae5-d026a915f841"
   },
   "outputs": [
    {
     "name": "stdout",
     "output_type": "stream",
     "text": [
      "<class 'pandas.core.frame.DataFrame'>\n",
      "RangeIndex: 13584 entries, 0 to 13583\n",
      "Data columns (total 24 columns):\n",
      " #   Column            Non-Null Count  Dtype  \n",
      "---  ------            --------------  -----  \n",
      " 0   ID                13584 non-null  int64  \n",
      " 1   Код_группы        13584 non-null  int64  \n",
      " 2   Год_Поступления   13584 non-null  int64  \n",
      " 3   Пол               13577 non-null  object \n",
      " 4   Основания         13584 non-null  object \n",
      " 5   Изучаемый_Язык    12758 non-null  object \n",
      " 6   Дата_Рождения     13584 non-null  object \n",
      " 7   Уч_Заведение      12351 non-null  object \n",
      " 8   Где_Находится_УЗ  12203 non-null  object \n",
      " 9   Год_Окончания_УЗ  12284 non-null  float64\n",
      " 10  Пособие           12576 non-null  float64\n",
      " 11  Страна_ПП         13237 non-null  object \n",
      " 12  Регион_ПП         12966 non-null  object \n",
      " 13  Город_ПП          13141 non-null  object \n",
      " 14  Общежитие         13498 non-null  float64\n",
      " 15  Наличие_Матери    13584 non-null  int64  \n",
      " 16  Наличие_Отца      13584 non-null  float64\n",
      " 17  Страна_Родители   13126 non-null  object \n",
      " 18  Опекунство        13584 non-null  float64\n",
      " 19  Село              13498 non-null  float64\n",
      " 20  Иностранец        13274 non-null  float64\n",
      " 21  КодФакультета     13584 non-null  float64\n",
      " 22  СрБаллАттестата   13584 non-null  float64\n",
      " 23  Статус            13584 non-null  int64  \n",
      "dtypes: float64(9), int64(5), object(10)\n",
      "memory usage: 2.5+ MB\n"
     ]
    }
   ],
   "source": [
    "df.info()"
   ]
  },
  {
   "cell_type": "markdown",
   "metadata": {
    "id": "IjTGeJP3u1-4"
   },
   "source": [
    "Заменим все пропуски в данных"
   ]
  },
  {
   "cell_type": "code",
   "execution_count": 474,
   "metadata": {},
   "outputs": [],
   "source": [
    "cat_features = df.dtypes[df.dtypes == \"object\"].index.values\n",
    "num_features = df.dtypes[df.dtypes != \"object\"].index.values"
   ]
  },
  {
   "cell_type": "code",
   "execution_count": 476,
   "metadata": {
    "id": "sWf6o_06uei9"
   },
   "outputs": [],
   "source": [
    "for i in cat_features:\n",
    "    df[i] = df[i].fillna('unknown')\n",
    "for i in num_features:\n",
    "    df[i] = df[i].fillna(-9999)"
   ]
  },
  {
   "cell_type": "markdown",
   "metadata": {
    "id": "4cxnT51gu5fJ"
   },
   "source": [
    "Посмотрим на распределение данных"
   ]
  },
  {
   "cell_type": "code",
   "execution_count": 477,
   "metadata": {
    "colab": {
     "base_uri": "https://localhost:8080/",
     "height": 313
    },
    "id": "205eCTRPu3Au",
    "outputId": "190a476b-9204-46e8-835d-419c8c80bceb"
   },
   "outputs": [
    {
     "data": {
      "text/plain": [
       "Text(0.5, 1.0, 'Распределение предсказываемой величены')"
      ]
     },
     "execution_count": 477,
     "metadata": {},
     "output_type": "execute_result"
    },
    {
     "data": {
      "image/png": "[encoded data removed]",
      "text/plain": [
       "<Figure size 432x288 with 1 Axes>"
      ]
     },
     "metadata": {
      "needs_background": "light"
     },
     "output_type": "display_data"
    }
   ],
   "source": [
    "sns.countplot(x = \"Статус\" , data  = df).set_title('Распределение предсказываемой величены')"
   ]
  },
  {
   "cell_type": "code",
   "execution_count": 478,
   "metadata": {},
   "outputs": [
    {
     "data": {
      "image/png": "[encoded data removed]",
      "text/plain": [
       "<Figure size 1296x720 with 1 Axes>"
      ]
     },
     "metadata": {
      "needs_background": "light"
     },
     "output_type": "display_data"
    }
   ],
   "source": [
    "plt.rcParams['figure.figsize'] = 18, 10\n",
    "fig = sns.kdeplot(df[df['Статус'] == -1]['СрБаллАттестата'], label = '-1')\n",
    "fig = sns.kdeplot(df[df['Статус'] == 3]['СрБаллАттестата'], label = '3')\n",
    "fig = sns.kdeplot(df[df['Статус'] == 4]['СрБаллАттестата'], label = '4')\n",
    "fig.set(xlabel='Средний бал', ylabel='Плотность')  \n",
    "plt.show()"
   ]
  },
  {
   "cell_type": "code",
   "execution_count": 479,
   "metadata": {},
   "outputs": [
    {
     "data": {
      "text/plain": [
       "Text(0.5, 1.0, 'Распределение предсказываемой величены')"
      ]
     },
     "execution_count": 479,
     "metadata": {},
     "output_type": "execute_result"
    },
    {
     "data": {
      "image/png": "[encoded data removed]",
      "text/plain": [
       "<Figure size 576x360 with 1 Axes>"
      ]
     },
     "metadata": {
      "needs_background": "light"
     },
     "output_type": "display_data"
    }
   ],
   "source": [
    "plt.rcParams['figure.figsize'] = 8, 5\n",
    "df1 = df.query('Пол == \"Жен\"')\n",
    "sns.countplot(x = \"Статус\" , data  = df1).set_title('Распределение предсказываемой величены')"
   ]
  },
  {
   "cell_type": "code",
   "execution_count": 480,
   "metadata": {
    "colab": {
     "base_uri": "https://localhost:8080/",
     "height": 299
    },
    "id": "0hNUU0Dvu3DC",
    "outputId": "09f22f43-a99a-4c49-8d6c-25171a2e7b7f"
   },
   "outputs": [
    {
     "data": {
      "text/plain": [
       "Text(0.5, 1.0, 'Распределение года поступления')"
      ]
     },
     "execution_count": 480,
     "metadata": {},
     "output_type": "execute_result"
    },
    {
     "data": {
      "image/png": "[encoded data removed]",
      "text/plain": [
       "<Figure size 576x360 with 1 Axes>"
      ]
     },
     "metadata": {
      "needs_background": "light"
     },
     "output_type": "display_data"
    }
   ],
   "source": [
    "df[\"Год_Поступления\"].hist(bins = 11, range = [2010, 2021]).set_title('Распределение года поступления')"
   ]
  },
  {
   "cell_type": "markdown",
   "metadata": {
    "id": "Q0CkiEzGwusL"
   },
   "source": [
    "Взглянем на несколько величин сразу"
   ]
  },
  {
   "cell_type": "code",
   "execution_count": 481,
   "metadata": {
    "colab": {
     "base_uri": "https://localhost:8080/",
     "height": 736
    },
    "id": "NM_Cufl3u3H0",
    "outputId": "f374a101-fbcc-465f-e59d-5a3ab3273595"
   },
   "outputs": [
    {
     "data": {
      "image/png": "[encoded data removed]",
      "text/plain": [
       "<Figure size 1440x864 with 16 Axes>"
      ]
     },
     "metadata": {
      "needs_background": "light"
     },
     "output_type": "display_data"
    }
   ],
   "source": [
    "_ = df[df.columns].hist(figsize=(20,12))"
   ]
  },
  {
   "cell_type": "markdown",
   "metadata": {
    "id": "zr-31zZQxUwx"
   },
   "source": [
    "Обратим внимание на часть столбцов с постоянными значениями"
   ]
  },
  {
   "cell_type": "code",
   "execution_count": 482,
   "metadata": {
    "colab": {
     "base_uri": "https://localhost:8080/"
    },
    "id": "pWrDLNAKD_ZB",
    "outputId": "1a1ddd84-d9c6-432d-972b-01a9b015c1c0"
   },
   "outputs": [
    {
     "data": {
      "text/plain": [
       "array(['ID', 'Код_группы', 'Год_Поступления', 'Пол', 'Основания',\n",
       "       'Изучаемый_Язык', 'Дата_Рождения', 'Уч_Заведение',\n",
       "       'Где_Находится_УЗ', 'Год_Окончания_УЗ', 'Пособие', 'Страна_ПП',\n",
       "       'Регион_ПП', 'Город_ПП', 'Общежитие', 'Наличие_Матери',\n",
       "       'Наличие_Отца', 'Страна_Родители', 'Опекунство', 'Село',\n",
       "       'Иностранец', 'КодФакультета', 'СрБаллАттестата', 'Статус'],\n",
       "      dtype=object)"
      ]
     },
     "execution_count": 482,
     "metadata": {},
     "output_type": "execute_result"
    }
   ],
   "source": [
    "df.columns.values"
   ]
  },
  {
   "cell_type": "code",
   "execution_count": 483,
   "metadata": {
    "colab": {
     "base_uri": "https://localhost:8080/",
     "height": 883
    },
    "id": "VnDPAAahyOnw",
    "outputId": "13ba8161-1b04-47f2-cf76-52a99ab762b0"
   },
   "outputs": [
    {
     "data": {
      "image/png": "[encoded data removed]",
      "text/plain": [
       "<Figure size 1080x1080 with 2 Axes>"
      ]
     },
     "metadata": {
      "needs_background": "light"
     },
     "output_type": "display_data"
    }
   ],
   "source": [
    "plt.rcParams['figure.figsize']=(15,15)\n",
    "\n",
    "\n",
    "df_corr = list(set(df.columns.values) - set(['Опекунство','Пособие']))\n",
    "g = sns.heatmap(df[df_corr].corr(), square = True, annot=True)"
   ]
  },
  {
   "cell_type": "markdown",
   "metadata": {},
   "source": [
    "Создадим новые признаки:"
   ]
  },
  {
   "cell_type": "code",
   "execution_count": 484,
   "metadata": {},
   "outputs": [],
   "source": [
    "df['Код_группы1'] = df['Код_группы']//10000\n",
    "df['Код_группы2'] = df['Код_группы']//1000%10\n",
    "df['Код_группы3'] = df['Код_группы']//100%10\n",
    "df['Код_группы4'] = df['Код_группы']//10%10\n",
    "df['Код_группы5'] = df['Код_группы']%10"
   ]
  },
  {
   "cell_type": "code",
   "execution_count": 485,
   "metadata": {},
   "outputs": [],
   "source": [
    "df['Дата_Рождения'] = pd.to_datetime(df['Дата_Рождения'])\n",
    "df['Дата_Рождения'] = df['Дата_Рождения'].dt.year"
   ]
  },
  {
   "cell_type": "code",
   "execution_count": 486,
   "metadata": {},
   "outputs": [],
   "source": [
    "df['Возрст'] = df['Год_Поступления'] - df['Дата_Рождения']"
   ]
  },
  {
   "cell_type": "markdown",
   "metadata": {},
   "source": [
    "Сделаем замены в некоторых ключевых признаках"
   ]
  },
  {
   "cell_type": "code",
   "execution_count": 488,
   "metadata": {},
   "outputs": [
    {
     "data": {
      "text/plain": [
       "array(['Жен', 'Муж', 'unknown', 'муж'], dtype=object)"
      ]
     },
     "execution_count": 488,
     "metadata": {},
     "output_type": "execute_result"
    }
   ],
   "source": [
    "df['Пол'].unique()"
   ]
  },
  {
   "cell_type": "code",
   "execution_count": 489,
   "metadata": {},
   "outputs": [],
   "source": [
    "df['Пол'] = df['Пол'].replace('муж', 'Муж')"
   ]
  },
  {
   "cell_type": "code",
   "execution_count": 490,
   "metadata": {},
   "outputs": [],
   "source": [
    "df['Город_ПП'] = df['Город_ПП'].replace('г. Барнаул', 'Барнаул г')\n",
    "df['Город_ПП'] = df['Город_ПП'].replace('Барнаул', 'Барнаул г')\n",
    "df['Город_ПП'] = df['Город_ПП'].replace('Барнаул  г', 'Барнаул г')\n",
    "df['Город_ПП'] = df['Город_ПП'].replace('г.Барнаул', 'Барнаул г')\n",
    "df['Город_ПП'] = df['Город_ПП'].replace('Барнаул г   ', 'Барнаул г')"
   ]
  },
  {
   "cell_type": "code",
   "execution_count": 491,
   "metadata": {},
   "outputs": [],
   "source": [
    "df['Страна_ПП'] = df['Страна_ПП'].replace('Казахстан Респ', 'Казахстан')\n",
    "df['Страна_ПП'] = df['Страна_ПП'].replace('Казахстан респ', 'Казахстан')\n",
    "df['Страна_ПП'] = df['Страна_ПП'].replace('Казахстан ВКО', 'Казахстан')\n",
    "df['Страна_ПП'] = df['Страна_ПП'].replace('Республика Казахстан', 'Казахстан')\n",
    "df['Страна_ПП'] = df['Страна_ПП'].replace('Киргизия', 'Кыргызстан')\n",
    "df['Страна_ПП'] = df['Страна_ПП'].replace('Кыргызия', 'Кыргызстан')\n",
    "df['Страна_ПП'] = df['Страна_ПП'].replace('Кыргызская Республика', 'Кыргызстан')\n",
    "df['Страна_ПП'] = df['Страна_ПП'].replace('РОССИЯ', 'Россия')\n",
    "df['Страна_ПП'] = df['Страна_ПП'].replace('Республика Таджикистан', 'Таджикистан')\n",
    "df['Страна_ПП'] = df['Страна_ПП'].replace('Таджикистан Респ', 'Таджикистан')"
   ]
  },
  {
   "cell_type": "markdown",
   "metadata": {
    "id": "VLOa56f5zfUg"
   },
   "source": [
    "## Выделим выборки"
   ]
  },
  {
   "cell_type": "markdown",
   "metadata": {},
   "source": [
    "Закодируем признаки техникой OHE"
   ]
  },
  {
   "cell_type": "code",
   "execution_count": 493,
   "metadata": {},
   "outputs": [],
   "source": [
    "df = pd.get_dummies(df, drop_first=True)"
   ]
  },
  {
   "cell_type": "code",
   "execution_count": 494,
   "metadata": {
    "id": "Poa1_MKE08xs"
   },
   "outputs": [],
   "source": [
    "mass_object = df.dtypes[df.dtypes == \"object\"].index.values"
   ]
  },
  {
   "cell_type": "code",
   "execution_count": 495,
   "metadata": {
    "id": "mAhVoVTj1l-D"
   },
   "outputs": [],
   "source": [
    "mass_object = np.append(mass_object, \"Статус\")"
   ]
  },
  {
   "cell_type": "code",
   "execution_count": 496,
   "metadata": {
    "id": "czsoZexkyyTw"
   },
   "outputs": [],
   "source": [
    "X = df.drop(mass_object, axis = 1)\n",
    "y = df[[\"Статус\"]]"
   ]
  },
  {
   "cell_type": "code",
   "execution_count": 497,
   "metadata": {
    "colab": {
     "base_uri": "https://localhost:8080/"
    },
    "id": "BSNwra3e07wI",
    "outputId": "e77fca40-f28a-4bf8-d52c-7f48d6ad9702"
   },
   "outputs": [
    {
     "data": {
      "text/plain": [
       "(13584, 7773)"
      ]
     },
     "execution_count": 497,
     "metadata": {},
     "output_type": "execute_result"
    }
   ],
   "source": [
    "X.shape"
   ]
  },
  {
   "cell_type": "code",
   "execution_count": 498,
   "metadata": {
    "id": "E-LfoARf2WGZ"
   },
   "outputs": [],
   "source": [
    "X_train, X_test, y_train, y_test = train_test_split(X, y, test_size=0.3, random_state=42, shuffle = True, stratify = y)"
   ]
  },
  {
   "cell_type": "markdown",
   "metadata": {
    "id": "X_HOvpXy2e3S"
   },
   "source": [
    "## Обучение модели"
   ]
  },
  {
   "cell_type": "markdown",
   "metadata": {},
   "source": [
    "# Catboost"
   ]
  },
  {
   "cell_type": "code",
   "execution_count": 499,
   "metadata": {},
   "outputs": [
    {
     "name": "stdout",
     "output_type": "stream",
     "text": [
      "Learning rate set to 0.107175\n",
      "0:\tlearn: 1.0104639\ttotal: 58.1ms\tremaining: 46.4s\n",
      "50:\tlearn: 0.3927832\ttotal: 3.17s\tremaining: 46.5s\n",
      "100:\tlearn: 0.3637136\ttotal: 6.76s\tremaining: 46.8s\n",
      "150:\tlearn: 0.3563932\ttotal: 10.6s\tremaining: 45.6s\n",
      "200:\tlearn: 0.3506067\ttotal: 14.3s\tremaining: 42.7s\n",
      "250:\tlearn: 0.3460552\ttotal: 18s\tremaining: 39.5s\n",
      "300:\tlearn: 0.3422408\ttotal: 21.2s\tremaining: 35.2s\n",
      "350:\tlearn: 0.3397227\ttotal: 25.4s\tremaining: 32.5s\n",
      "400:\tlearn: 0.3367644\ttotal: 28.8s\tremaining: 28.7s\n",
      "450:\tlearn: 0.3323469\ttotal: 32.1s\tremaining: 24.8s\n",
      "500:\tlearn: 0.3296004\ttotal: 37.1s\tremaining: 22.1s\n",
      "550:\tlearn: 0.3262089\ttotal: 40.1s\tremaining: 18.1s\n",
      "600:\tlearn: 0.3221756\ttotal: 43.2s\tremaining: 14.3s\n",
      "650:\tlearn: 0.3188596\ttotal: 47s\tremaining: 10.8s\n",
      "700:\tlearn: 0.3160323\ttotal: 50s\tremaining: 7.06s\n",
      "750:\tlearn: 0.3140202\ttotal: 52.9s\tremaining: 3.45s\n",
      "799:\tlearn: 0.3105891\ttotal: 56.2s\tremaining: 0us\n"
     ]
    },
    {
     "data": {
      "text/plain": [
       "0.7410207275367351"
      ]
     },
     "execution_count": 499,
     "metadata": {},
     "output_type": "execute_result"
    }
   ],
   "source": [
    "from catboost import CatBoostClassifier \n",
    "clf_cb = CatBoostClassifier(iterations=800, verbose = 50)\n",
    "clf_cb.fit(X_train, y_train)\n",
    "pred_cb = clf_cb.predict(X_test)\n",
    "f1_score(y_test, pred_cb, average='macro', zero_division = 0)"
   ]
  },
  {
   "cell_type": "code",
   "execution_count": 500,
   "metadata": {},
   "outputs": [
    {
     "name": "stdout",
     "output_type": "stream",
     "text": [
      "nan_mode, Min\n",
      "eval_metric, MultiClass\n",
      "iterations, 800\n",
      "sampling_frequency, PerTree\n",
      "leaf_estimation_method, Newton\n",
      "grow_policy, SymmetricTree\n",
      "penalties_coefficient, 1\n",
      "boosting_type, Plain\n",
      "model_shrink_mode, Constant\n",
      "feature_border_type, GreedyLogSum\n",
      "bayesian_matrix_reg, 0.10000000149011612\n",
      "force_unit_auto_pair_weights, False\n",
      "l2_leaf_reg, 3\n",
      "random_strength, 1\n",
      "rsm, 1\n",
      "boost_from_average, False\n",
      "model_size_reg, 0.5\n",
      "pool_metainfo_options, {'tags': {}}\n",
      "use_best_model, False\n",
      "class_names, [-1, 3, 4]\n",
      "random_seed, 0\n",
      "depth, 6\n",
      "posterior_sampling, False\n",
      "border_count, 254\n",
      "bagging_temperature, 1\n",
      "classes_count, 0\n",
      "auto_class_weights, None\n",
      "sparse_features_conflict_fraction, 0\n",
      "leaf_estimation_backtracking, AnyImprovement\n",
      "best_model_min_trees, 1\n",
      "model_shrink_rate, 0\n",
      "min_data_in_leaf, 1\n",
      "loss_function, MultiClass\n",
      "learning_rate, 0.10717500001192092\n",
      "score_function, Cosine\n",
      "task_type, CPU\n",
      "leaf_estimation_iterations, 1\n",
      "bootstrap_type, Bayesian\n",
      "max_leaves, 64\n"
     ]
    }
   ],
   "source": [
    "for key,value in clf_cb.get_all_params().items():\n",
    "    print('{}, {}'.format(key,value))"
   ]
  },
  {
   "cell_type": "markdown",
   "metadata": {},
   "source": [
    "Посмотрим на первые 50 значимых признаков, на основании этих  данных был проведен EDA"
   ]
  },
  {
   "cell_type": "code",
   "execution_count": 501,
   "metadata": {},
   "outputs": [
    {
     "data": {
      "text/html": [
       "<div>\n",
       "<style scoped>\n",
       "    .dataframe tbody tr th:only-of-type {\n",
       "        vertical-align: middle;\n",
       "    }\n",
       "\n",
       "    .dataframe tbody tr th {\n",
       "        vertical-align: top;\n",
       "    }\n",
       "\n",
       "    .dataframe thead th {\n",
       "        text-align: right;\n",
       "    }\n",
       "</style>\n",
       "<table border=\"1\" class=\"dataframe\">\n",
       "  <thead>\n",
       "    <tr style=\"text-align: right;\">\n",
       "      <th></th>\n",
       "      <th>Feature Id</th>\n",
       "      <th>Importances</th>\n",
       "    </tr>\n",
       "  </thead>\n",
       "  <tbody>\n",
       "    <tr>\n",
       "      <th>0</th>\n",
       "      <td>Код_группы</td>\n",
       "      <td>32.079910</td>\n",
       "    </tr>\n",
       "    <tr>\n",
       "      <th>1</th>\n",
       "      <td>Основания_ОО</td>\n",
       "      <td>10.029729</td>\n",
       "    </tr>\n",
       "    <tr>\n",
       "      <th>2</th>\n",
       "      <td>ID</td>\n",
       "      <td>9.705121</td>\n",
       "    </tr>\n",
       "    <tr>\n",
       "      <th>3</th>\n",
       "      <td>Год_Поступления</td>\n",
       "      <td>8.443172</td>\n",
       "    </tr>\n",
       "    <tr>\n",
       "      <th>4</th>\n",
       "      <td>Основания_СН</td>\n",
       "      <td>7.878592</td>\n",
       "    </tr>\n",
       "    <tr>\n",
       "      <th>5</th>\n",
       "      <td>СрБаллАттестата</td>\n",
       "      <td>5.730299</td>\n",
       "    </tr>\n",
       "    <tr>\n",
       "      <th>6</th>\n",
       "      <td>Код_группы2</td>\n",
       "      <td>3.894811</td>\n",
       "    </tr>\n",
       "    <tr>\n",
       "      <th>7</th>\n",
       "      <td>Дата_Рождения</td>\n",
       "      <td>3.038830</td>\n",
       "    </tr>\n",
       "    <tr>\n",
       "      <th>8</th>\n",
       "      <td>Основания_ДН</td>\n",
       "      <td>2.877238</td>\n",
       "    </tr>\n",
       "    <tr>\n",
       "      <th>9</th>\n",
       "      <td>КодФакультета</td>\n",
       "      <td>2.875479</td>\n",
       "    </tr>\n",
       "    <tr>\n",
       "      <th>10</th>\n",
       "      <td>Код_группы3</td>\n",
       "      <td>2.521942</td>\n",
       "    </tr>\n",
       "    <tr>\n",
       "      <th>11</th>\n",
       "      <td>Пособие</td>\n",
       "      <td>1.586509</td>\n",
       "    </tr>\n",
       "    <tr>\n",
       "      <th>12</th>\n",
       "      <td>Возрст</td>\n",
       "      <td>1.514004</td>\n",
       "    </tr>\n",
       "    <tr>\n",
       "      <th>13</th>\n",
       "      <td>Год_Окончания_УЗ</td>\n",
       "      <td>1.368436</td>\n",
       "    </tr>\n",
       "    <tr>\n",
       "      <th>14</th>\n",
       "      <td>Код_группы4</td>\n",
       "      <td>1.270246</td>\n",
       "    </tr>\n",
       "    <tr>\n",
       "      <th>15</th>\n",
       "      <td>Пол_Жен</td>\n",
       "      <td>0.672776</td>\n",
       "    </tr>\n",
       "    <tr>\n",
       "      <th>16</th>\n",
       "      <td>Наличие_Матери</td>\n",
       "      <td>0.652311</td>\n",
       "    </tr>\n",
       "    <tr>\n",
       "      <th>17</th>\n",
       "      <td>Пол_Муж</td>\n",
       "      <td>0.598766</td>\n",
       "    </tr>\n",
       "    <tr>\n",
       "      <th>18</th>\n",
       "      <td>Код_группы5</td>\n",
       "      <td>0.565488</td>\n",
       "    </tr>\n",
       "    <tr>\n",
       "      <th>19</th>\n",
       "      <td>Где_Находится_УЗ_Алтайский край, Барнаул г</td>\n",
       "      <td>0.369466</td>\n",
       "    </tr>\n",
       "    <tr>\n",
       "      <th>20</th>\n",
       "      <td>Наличие_Отца</td>\n",
       "      <td>0.357710</td>\n",
       "    </tr>\n",
       "    <tr>\n",
       "      <th>21</th>\n",
       "      <td>Иностранец</td>\n",
       "      <td>0.174844</td>\n",
       "    </tr>\n",
       "    <tr>\n",
       "      <th>22</th>\n",
       "      <td>Город_ПП_Барнаул г</td>\n",
       "      <td>0.125827</td>\n",
       "    </tr>\n",
       "    <tr>\n",
       "      <th>23</th>\n",
       "      <td>Общежитие</td>\n",
       "      <td>0.118914</td>\n",
       "    </tr>\n",
       "    <tr>\n",
       "      <th>24</th>\n",
       "      <td>Изучаемый_Язык_Немецкий язык</td>\n",
       "      <td>0.110096</td>\n",
       "    </tr>\n",
       "    <tr>\n",
       "      <th>25</th>\n",
       "      <td>Село</td>\n",
       "      <td>0.109771</td>\n",
       "    </tr>\n",
       "    <tr>\n",
       "      <th>26</th>\n",
       "      <td>Где_Находится_УЗ_unknown</td>\n",
       "      <td>0.097674</td>\n",
       "    </tr>\n",
       "    <tr>\n",
       "      <th>27</th>\n",
       "      <td>Изучаемый_Язык_Английский язык</td>\n",
       "      <td>0.096561</td>\n",
       "    </tr>\n",
       "    <tr>\n",
       "      <th>28</th>\n",
       "      <td>Уч_Заведение_ФГБОУ ВО Алтайский государственны...</td>\n",
       "      <td>0.088341</td>\n",
       "    </tr>\n",
       "    <tr>\n",
       "      <th>29</th>\n",
       "      <td>Страна_ПП_Россия</td>\n",
       "      <td>0.076827</td>\n",
       "    </tr>\n",
       "    <tr>\n",
       "      <th>30</th>\n",
       "      <td>Регион_ПП_Алтайский край</td>\n",
       "      <td>0.057076</td>\n",
       "    </tr>\n",
       "    <tr>\n",
       "      <th>31</th>\n",
       "      <td>Страна_ПП_Казахстан</td>\n",
       "      <td>0.048506</td>\n",
       "    </tr>\n",
       "    <tr>\n",
       "      <th>32</th>\n",
       "      <td>Где_Находится_УЗ_Россия, Алтайский край, г Бар...</td>\n",
       "      <td>0.042486</td>\n",
       "    </tr>\n",
       "    <tr>\n",
       "      <th>33</th>\n",
       "      <td>Уч_Заведение_ФГБОУ ВПО Алтайский государственн...</td>\n",
       "      <td>0.031469</td>\n",
       "    </tr>\n",
       "    <tr>\n",
       "      <th>34</th>\n",
       "      <td>Страна_Родители_Казахстан</td>\n",
       "      <td>0.030953</td>\n",
       "    </tr>\n",
       "    <tr>\n",
       "      <th>35</th>\n",
       "      <td>Уч_Заведение_ФГБОУ ВПО \"Алтайский государствен...</td>\n",
       "      <td>0.029915</td>\n",
       "    </tr>\n",
       "    <tr>\n",
       "      <th>36</th>\n",
       "      <td>Страна_ПП_Китай</td>\n",
       "      <td>0.023599</td>\n",
       "    </tr>\n",
       "    <tr>\n",
       "      <th>37</th>\n",
       "      <td>Уч_Заведение_МБОУ \"Лицей №130 \"РАЭПШ\"</td>\n",
       "      <td>0.020727</td>\n",
       "    </tr>\n",
       "    <tr>\n",
       "      <th>38</th>\n",
       "      <td>Где_Находится_УЗ_г. Бийск</td>\n",
       "      <td>0.017214</td>\n",
       "    </tr>\n",
       "    <tr>\n",
       "      <th>39</th>\n",
       "      <td>Город_ПП_Рубцовск</td>\n",
       "      <td>0.017135</td>\n",
       "    </tr>\n",
       "    <tr>\n",
       "      <th>40</th>\n",
       "      <td>Город_ПП_Берёзовка с</td>\n",
       "      <td>0.016860</td>\n",
       "    </tr>\n",
       "    <tr>\n",
       "      <th>41</th>\n",
       "      <td>Где_Находится_УЗ_г. Бийск АК</td>\n",
       "      <td>0.016693</td>\n",
       "    </tr>\n",
       "    <tr>\n",
       "      <th>42</th>\n",
       "      <td>Город_ПП_Целинное с</td>\n",
       "      <td>0.015289</td>\n",
       "    </tr>\n",
       "    <tr>\n",
       "      <th>43</th>\n",
       "      <td>Город_ПП_Павловск с</td>\n",
       "      <td>0.014734</td>\n",
       "    </tr>\n",
       "    <tr>\n",
       "      <th>44</th>\n",
       "      <td>Город_ПП_Бурла с</td>\n",
       "      <td>0.013151</td>\n",
       "    </tr>\n",
       "    <tr>\n",
       "      <th>45</th>\n",
       "      <td>Страна_Родители_Таджикистан</td>\n",
       "      <td>0.012491</td>\n",
       "    </tr>\n",
       "    <tr>\n",
       "      <th>46</th>\n",
       "      <td>Изучаемый_Язык_Французский язык</td>\n",
       "      <td>0.012376</td>\n",
       "    </tr>\n",
       "    <tr>\n",
       "      <th>47</th>\n",
       "      <td>Уч_Заведение_МБОУ СОШ №41</td>\n",
       "      <td>0.011899</td>\n",
       "    </tr>\n",
       "    <tr>\n",
       "      <th>48</th>\n",
       "      <td>Уч_Заведение_МБОУ \"СОШ №75\"</td>\n",
       "      <td>0.010593</td>\n",
       "    </tr>\n",
       "    <tr>\n",
       "      <th>49</th>\n",
       "      <td>Регион_ПП_Ляонин провинция</td>\n",
       "      <td>0.010012</td>\n",
       "    </tr>\n",
       "  </tbody>\n",
       "</table>\n",
       "</div>"
      ],
      "text/plain": [
       "                                           Feature Id  Importances\n",
       "0                                          Код_группы    32.079910\n",
       "1                                        Основания_ОО    10.029729\n",
       "2                                                  ID     9.705121\n",
       "3                                     Год_Поступления     8.443172\n",
       "4                                        Основания_СН     7.878592\n",
       "5                                     СрБаллАттестата     5.730299\n",
       "6                                         Код_группы2     3.894811\n",
       "7                                       Дата_Рождения     3.038830\n",
       "8                                        Основания_ДН     2.877238\n",
       "9                                       КодФакультета     2.875479\n",
       "10                                        Код_группы3     2.521942\n",
       "11                                            Пособие     1.586509\n",
       "12                                             Возрст     1.514004\n",
       "13                                   Год_Окончания_УЗ     1.368436\n",
       "14                                        Код_группы4     1.270246\n",
       "15                                            Пол_Жен     0.672776\n",
       "16                                     Наличие_Матери     0.652311\n",
       "17                                            Пол_Муж     0.598766\n",
       "18                                        Код_группы5     0.565488\n",
       "19         Где_Находится_УЗ_Алтайский край, Барнаул г     0.369466\n",
       "20                                       Наличие_Отца     0.357710\n",
       "21                                         Иностранец     0.174844\n",
       "22                                 Город_ПП_Барнаул г     0.125827\n",
       "23                                          Общежитие     0.118914\n",
       "24                       Изучаемый_Язык_Немецкий язык     0.110096\n",
       "25                                               Село     0.109771\n",
       "26                           Где_Находится_УЗ_unknown     0.097674\n",
       "27                     Изучаемый_Язык_Английский язык     0.096561\n",
       "28  Уч_Заведение_ФГБОУ ВО Алтайский государственны...     0.088341\n",
       "29                                   Страна_ПП_Россия     0.076827\n",
       "30                           Регион_ПП_Алтайский край     0.057076\n",
       "31                                Страна_ПП_Казахстан     0.048506\n",
       "32  Где_Находится_УЗ_Россия, Алтайский край, г Бар...     0.042486\n",
       "33  Уч_Заведение_ФГБОУ ВПО Алтайский государственн...     0.031469\n",
       "34                          Страна_Родители_Казахстан     0.030953\n",
       "35  Уч_Заведение_ФГБОУ ВПО \"Алтайский государствен...     0.029915\n",
       "36                                    Страна_ПП_Китай     0.023599\n",
       "37              Уч_Заведение_МБОУ \"Лицей №130 \"РАЭПШ\"     0.020727\n",
       "38                          Где_Находится_УЗ_г. Бийск     0.017214\n",
       "39                                  Город_ПП_Рубцовск     0.017135\n",
       "40                               Город_ПП_Берёзовка с     0.016860\n",
       "41                       Где_Находится_УЗ_г. Бийск АК     0.016693\n",
       "42                                Город_ПП_Целинное с     0.015289\n",
       "43                                Город_ПП_Павловск с     0.014734\n",
       "44                                   Город_ПП_Бурла с     0.013151\n",
       "45                        Страна_Родители_Таджикистан     0.012491\n",
       "46                    Изучаемый_Язык_Французский язык     0.012376\n",
       "47                          Уч_Заведение_МБОУ СОШ №41     0.011899\n",
       "48                        Уч_Заведение_МБОУ \"СОШ №75\"     0.010593\n",
       "49                         Регион_ПП_Ляонин провинция     0.010012"
      ]
     },
     "execution_count": 501,
     "metadata": {},
     "output_type": "execute_result"
    }
   ],
   "source": [
    "clf_cb.get_feature_importance(prettified=True)[0:50]"
   ]
  },
  {
   "cell_type": "markdown",
   "metadata": {},
   "source": [
    "Отберем 25 наиболее значимых признаков и посчитаем метрику"
   ]
  },
  {
   "cell_type": "code",
   "execution_count": 502,
   "metadata": {},
   "outputs": [],
   "source": [
    "fich = list(clf_cb.get_feature_importance(prettified=True)[0:25]['Feature Id'])"
   ]
  },
  {
   "cell_type": "code",
   "execution_count": 503,
   "metadata": {},
   "outputs": [
    {
     "data": {
      "text/plain": [
       "['Код_группы',\n",
       " 'Основания_ОО',\n",
       " 'ID',\n",
       " 'Год_Поступления',\n",
       " 'Основания_СН',\n",
       " 'СрБаллАттестата',\n",
       " 'Код_группы2',\n",
       " 'Дата_Рождения',\n",
       " 'Основания_ДН',\n",
       " 'КодФакультета',\n",
       " 'Код_группы3',\n",
       " 'Пособие',\n",
       " 'Возрст',\n",
       " 'Год_Окончания_УЗ',\n",
       " 'Код_группы4',\n",
       " 'Пол_Жен',\n",
       " 'Наличие_Матери',\n",
       " 'Пол_Муж',\n",
       " 'Код_группы5',\n",
       " 'Где_Находится_УЗ_Алтайский край, Барнаул г',\n",
       " 'Наличие_Отца',\n",
       " 'Иностранец',\n",
       " 'Город_ПП_Барнаул г',\n",
       " 'Общежитие',\n",
       " 'Изучаемый_Язык_Немецкий язык']"
      ]
     },
     "execution_count": 503,
     "metadata": {},
     "output_type": "execute_result"
    }
   ],
   "source": [
    "fich"
   ]
  },
  {
   "cell_type": "code",
   "execution_count": 504,
   "metadata": {},
   "outputs": [],
   "source": [
    "X_train = X_train[fich]"
   ]
  },
  {
   "cell_type": "code",
   "execution_count": 505,
   "metadata": {},
   "outputs": [
    {
     "name": "stdout",
     "output_type": "stream",
     "text": [
      "Learning rate set to 0.107175\n",
      "0:\tlearn: 1.0110086\ttotal: 17.2ms\tremaining: 13.8s\n",
      "50:\tlearn: 0.3841127\ttotal: 634ms\tremaining: 9.31s\n",
      "100:\tlearn: 0.3309481\ttotal: 1.2s\tremaining: 8.32s\n",
      "150:\tlearn: 0.3011106\ttotal: 1.97s\tremaining: 8.49s\n",
      "200:\tlearn: 0.2802850\ttotal: 2.53s\tremaining: 7.54s\n",
      "250:\tlearn: 0.2639121\ttotal: 3.1s\tremaining: 6.77s\n",
      "300:\tlearn: 0.2498513\ttotal: 3.75s\tremaining: 6.22s\n",
      "350:\tlearn: 0.2376524\ttotal: 4.3s\tremaining: 5.51s\n",
      "400:\tlearn: 0.2272384\ttotal: 4.85s\tremaining: 4.83s\n",
      "450:\tlearn: 0.2175031\ttotal: 5.41s\tremaining: 4.19s\n",
      "500:\tlearn: 0.2073402\ttotal: 5.96s\tremaining: 3.56s\n",
      "550:\tlearn: 0.1980898\ttotal: 6.53s\tremaining: 2.95s\n",
      "600:\tlearn: 0.1892378\ttotal: 7.09s\tremaining: 2.35s\n",
      "650:\tlearn: 0.1820791\ttotal: 7.64s\tremaining: 1.75s\n",
      "700:\tlearn: 0.1743870\ttotal: 8.2s\tremaining: 1.16s\n",
      "750:\tlearn: 0.1679342\ttotal: 8.77s\tremaining: 572ms\n",
      "799:\tlearn: 0.1619351\ttotal: 9.31s\tremaining: 0us\n"
     ]
    },
    {
     "data": {
      "text/plain": [
       "0.7725438604812292"
      ]
     },
     "execution_count": 505,
     "metadata": {},
     "output_type": "execute_result"
    }
   ],
   "source": [
    "from catboost import CatBoostClassifier \n",
    "clf_cb = CatBoostClassifier(iterations=800, verbose = 50)\n",
    "clf_cb.fit(X_train, y_train)\n",
    "pred_cb = clf_cb.predict(X_test)\n",
    "f1_score(y_test, pred_cb, average='macro', zero_division = 0)"
   ]
  },
  {
   "cell_type": "markdown",
   "metadata": {},
   "source": [
    "Обучим модель на всей тестовой выборке"
   ]
  },
  {
   "cell_type": "code",
   "execution_count": 508,
   "metadata": {},
   "outputs": [],
   "source": [
    "X = X[fich]"
   ]
  },
  {
   "cell_type": "code",
   "execution_count": 509,
   "metadata": {},
   "outputs": [
    {
     "name": "stdout",
     "output_type": "stream",
     "text": [
      "Learning rate set to 0.109143\n",
      "0:\tlearn: 1.0046732\ttotal: 33.6ms\tremaining: 26.8s\n",
      "50:\tlearn: 0.3752965\ttotal: 774ms\tremaining: 11.4s\n",
      "100:\tlearn: 0.3275935\ttotal: 1.5s\tremaining: 10.4s\n",
      "150:\tlearn: 0.2982976\ttotal: 2.18s\tremaining: 9.36s\n",
      "200:\tlearn: 0.2822806\ttotal: 2.8s\tremaining: 8.33s\n",
      "250:\tlearn: 0.2667970\ttotal: 3.44s\tremaining: 7.52s\n",
      "300:\tlearn: 0.2545109\ttotal: 4.06s\tremaining: 6.72s\n",
      "350:\tlearn: 0.2432405\ttotal: 4.69s\tremaining: 6s\n",
      "400:\tlearn: 0.2331976\ttotal: 5.32s\tremaining: 5.3s\n",
      "450:\tlearn: 0.2244927\ttotal: 5.95s\tremaining: 4.61s\n",
      "500:\tlearn: 0.2168866\ttotal: 6.62s\tremaining: 3.95s\n",
      "550:\tlearn: 0.2085422\ttotal: 7.27s\tremaining: 3.29s\n",
      "600:\tlearn: 0.2013043\ttotal: 7.9s\tremaining: 2.62s\n",
      "650:\tlearn: 0.1945585\ttotal: 8.54s\tremaining: 1.96s\n",
      "700:\tlearn: 0.1889108\ttotal: 9.17s\tremaining: 1.29s\n",
      "750:\tlearn: 0.1828347\ttotal: 9.82s\tremaining: 641ms\n",
      "799:\tlearn: 0.1781644\ttotal: 10.4s\tremaining: 0us\n"
     ]
    },
    {
     "data": {
      "text/plain": [
       "<catboost.core.CatBoostClassifier at 0x253c5683070>"
      ]
     },
     "execution_count": 509,
     "metadata": {},
     "output_type": "execute_result"
    }
   ],
   "source": [
    "clf_cb = CatBoostClassifier(iterations=800, verbose = 50)\n",
    "clf_cb.fit(X, y)\n"
   ]
  },
  {
   "cell_type": "markdown",
   "metadata": {
    "id": "yjJp2a4dFmNJ"
   },
   "source": [
    "# Cоздание файла с ответом"
   ]
  },
  {
   "cell_type": "code",
   "execution_count": 510,
   "metadata": {
    "id": "-1HabuSpBbYS"
   },
   "outputs": [],
   "source": [
    "df_test = pd.read_csv(\"test_dataset_test.csv\")\n",
    "df_submission = pd.read_csv(\"sample_submission.csv\")"
   ]
  },
  {
   "cell_type": "markdown",
   "metadata": {
    "id": "XIfjIJ7cF_gS"
   },
   "source": [
    "Провем те же манипуляции с данными что и на обучении"
   ]
  },
  {
   "cell_type": "code",
   "execution_count": 511,
   "metadata": {},
   "outputs": [],
   "source": [
    "cat_features = df_test.dtypes[df_test.dtypes == \"object\"].index.values\n",
    "num_features = df_test.dtypes[df_test.dtypes != \"object\"].index.values"
   ]
  },
  {
   "cell_type": "code",
   "execution_count": 512,
   "metadata": {},
   "outputs": [],
   "source": [
    "for i in cat_features:\n",
    "    df_test[i] = df_test[i].fillna('unknown')\n",
    "for i in num_features:\n",
    "    df_test[i] = df_test[i].fillna(-9999)"
   ]
  },
  {
   "cell_type": "code",
   "execution_count": 513,
   "metadata": {},
   "outputs": [],
   "source": [
    "df_test['Код_группы1'] = df_test['Код_группы']//10000\n",
    "df_test['Код_группы2'] = df_test['Код_группы']//1000%10\n",
    "df_test['Код_группы3'] = df_test['Код_группы']//100%10\n",
    "df_test['Код_группы4'] = df_test['Код_группы']//10%10\n",
    "df_test['Код_группы5'] = df_test['Код_группы']%10"
   ]
  },
  {
   "cell_type": "code",
   "execution_count": 514,
   "metadata": {},
   "outputs": [
    {
     "data": {
      "text/plain": [
       "array(['Жен', 'Муж', 'unknown', 'жен'], dtype=object)"
      ]
     },
     "execution_count": 514,
     "metadata": {},
     "output_type": "execute_result"
    }
   ],
   "source": [
    "df_test['Пол'].unique()"
   ]
  },
  {
   "cell_type": "code",
   "execution_count": 515,
   "metadata": {},
   "outputs": [],
   "source": [
    "df_test['Пол'] = df_test['Пол'].replace('жен', 'Жен')"
   ]
  },
  {
   "cell_type": "code",
   "execution_count": 516,
   "metadata": {},
   "outputs": [],
   "source": [
    "df_test['Город_ПП'] = df_test['Город_ПП'].replace('г. Барнаул', 'Барнаул г')\n",
    "df_test['Город_ПП'] = df_test['Город_ПП'].replace('Барнаул', 'Барнаул г')\n",
    "df_test['Город_ПП'] = df_test['Город_ПП'].replace('Барнаул  г', 'Барнаул г')\n",
    "df_test['Город_ПП'] = df_test['Город_ПП'].replace('г.Барнаул', 'Барнаул г')\n",
    "df_test['Город_ПП'] = df_test['Город_ПП'].replace('Барнаул г   ', 'Барнаул г')"
   ]
  },
  {
   "cell_type": "code",
   "execution_count": 517,
   "metadata": {},
   "outputs": [],
   "source": [
    "df_test['Страна_ПП'] = df_test['Страна_ПП'].replace('Казахстан Респ', 'Казахстан')\n",
    "df_test['Страна_ПП'] = df_test['Страна_ПП'].replace('Казахстан респ', 'Казахстан')\n",
    "df_test['Страна_ПП'] = df_test['Страна_ПП'].replace('Казахстан ВКО', 'Казахстан')\n",
    "df_test['Страна_ПП'] = df_test['Страна_ПП'].replace('Республика Казахстан', 'Казахстан')\n",
    "df_test['Страна_ПП'] = df_test['Страна_ПП'].replace('КАЗАХСТАН', 'Казахстан')\n",
    "df_test['Страна_ПП'] = df_test['Страна_ПП'].replace('Киргизия', 'Кыргызстан')\n",
    "df_test['Страна_ПП'] = df_test['Страна_ПП'].replace('Кыргызия', 'Кыргызстан')\n",
    "df_test['Страна_ПП'] = df_test['Страна_ПП'].replace('Кыргызская Республика', 'Кыргызстан')\n",
    "df_test['Страна_ПП'] = df_test['Страна_ПП'].replace('РОССИЯ', 'Россия')\n",
    "df_test['Страна_ПП'] = df_test['Страна_ПП'].replace('Республика Таджикистан', 'Таджикистан')\n",
    "df_test['Страна_ПП'] = df_test['Страна_ПП'].replace('Таджикистан Респ', 'Таджикистан')\n"
   ]
  },
  {
   "cell_type": "code",
   "execution_count": 519,
   "metadata": {},
   "outputs": [],
   "source": [
    "df_test['Дата_Рождения'] = pd.to_datetime(df_test['Дата_Рождения'])\n",
    "df_test['Дата_Рождения'] = df_test['Дата_Рождения'].dt.year"
   ]
  },
  {
   "cell_type": "code",
   "execution_count": 520,
   "metadata": {},
   "outputs": [],
   "source": [
    "df_test['Возрст'] = df_test['Год_Поступления'] - df_test['Дата_Рождения']"
   ]
  },
  {
   "cell_type": "code",
   "execution_count": 521,
   "metadata": {},
   "outputs": [],
   "source": [
    "df_test = pd.get_dummies(df_test, drop_first=True)"
   ]
  },
  {
   "cell_type": "code",
   "execution_count": 522,
   "metadata": {},
   "outputs": [],
   "source": [
    "df_test = df_test[fich]"
   ]
  },
  {
   "cell_type": "code",
   "execution_count": 523,
   "metadata": {
    "id": "0lYg_cpvBbcg"
   },
   "outputs": [],
   "source": [
    "df_test_pred = clf_cb.predict(df_test)"
   ]
  },
  {
   "cell_type": "code",
   "execution_count": 524,
   "metadata": {
    "colab": {
     "base_uri": "https://localhost:8080/",
     "height": 175
    },
    "id": "py7AM_IFBbe7",
    "outputId": "ec729ccd-fe60-40a5-bc41-bc4845a119e7"
   },
   "outputs": [
    {
     "data": {
      "text/html": [
       "<div>\n",
       "<style scoped>\n",
       "    .dataframe tbody tr th:only-of-type {\n",
       "        vertical-align: middle;\n",
       "    }\n",
       "\n",
       "    .dataframe tbody tr th {\n",
       "        vertical-align: top;\n",
       "    }\n",
       "\n",
       "    .dataframe thead th {\n",
       "        text-align: right;\n",
       "    }\n",
       "</style>\n",
       "<table border=\"1\" class=\"dataframe\">\n",
       "  <thead>\n",
       "    <tr style=\"text-align: right;\">\n",
       "      <th></th>\n",
       "      <th>ID</th>\n",
       "      <th>Статус</th>\n",
       "    </tr>\n",
       "  </thead>\n",
       "  <tbody>\n",
       "    <tr>\n",
       "      <th>0</th>\n",
       "      <td>64996</td>\n",
       "      <td>4</td>\n",
       "    </tr>\n",
       "    <tr>\n",
       "      <th>1</th>\n",
       "      <td>71837</td>\n",
       "      <td>4</td>\n",
       "    </tr>\n",
       "    <tr>\n",
       "      <th>2</th>\n",
       "      <td>86587</td>\n",
       "      <td>3</td>\n",
       "    </tr>\n",
       "    <tr>\n",
       "      <th>3</th>\n",
       "      <td>73673</td>\n",
       "      <td>-1</td>\n",
       "    </tr>\n",
       "  </tbody>\n",
       "</table>\n",
       "</div>"
      ],
      "text/plain": [
       "      ID  Статус\n",
       "0  64996       4\n",
       "1  71837       4\n",
       "2  86587       3\n",
       "3  73673      -1"
      ]
     },
     "execution_count": 524,
     "metadata": {},
     "output_type": "execute_result"
    }
   ],
   "source": [
    "df_submission[\"Статус\"] = df_test_pred\n",
    "df_submission.head(4)"
   ]
  },
  {
   "cell_type": "code",
   "execution_count": 525,
   "metadata": {},
   "outputs": [],
   "source": [
    "df_submission.set_index('ID', inplace = True)"
   ]
  },
  {
   "cell_type": "code",
   "execution_count": 466,
   "metadata": {
    "id": "hiUyIdnWGgJu"
   },
   "outputs": [],
   "source": [
    "df_submission.to_csv(\"sample_submission1.csv\")"
   ]
  }
 ],
 "metadata": {
  "colab": {
   "name": "students_baseline.ipynb",
   "provenance": []
  },
  "kernelspec": {
   "display_name": "Python 3",
   "language": "python",
   "name": "python3"
  },
  "language_info": {
   "codemirror_mode": {
    "name": "ipython",
    "version": 3
   },
   "file_extension": ".py",
   "mimetype": "text/x-python",
   "name": "python",
   "nbconvert_exporter": "python",
   "pygments_lexer": "ipython3",
   "version": "3.8.8"
  }
 },
 "nbformat": 4,
 "nbformat_minor": 1
}
